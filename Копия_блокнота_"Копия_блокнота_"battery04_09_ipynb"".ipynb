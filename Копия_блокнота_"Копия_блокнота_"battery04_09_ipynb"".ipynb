{
  "cells": [
    {
      "cell_type": "markdown",
      "metadata": {
        "id": "view-in-github",
        "colab_type": "text"
      },
      "source": [
        "<a href=\"https://colab.research.google.com/github/Shai670/Residential_consumption_modeling/blob/main/%D0%9A%D0%BE%D0%BF%D0%B8%D1%8F_%D0%B1%D0%BB%D0%BE%D0%BA%D0%BD%D0%BE%D1%82%D0%B0_%22%D0%9A%D0%BE%D0%BF%D0%B8%D1%8F_%D0%B1%D0%BB%D0%BE%D0%BA%D0%BD%D0%BE%D1%82%D0%B0_%22battery04_09_ipynb%22%22.ipynb\" target=\"_parent\"><img src=\"https://colab.research.google.com/assets/colab-badge.svg\" alt=\"Open In Colab\"/></a>"
      ]
    },
    {
      "cell_type": "code",
      "execution_count": null,
      "metadata": {
        "id": "WGr27blDE5iB"
      },
      "outputs": [],
      "source": [
        "import numpy as np\n",
        "import pandas as pd\n",
        "import seaborn as sns\n",
        "from IPython.display import clear_output\n",
        "\n",
        "import matplotlib.pyplot as plt"
      ]
    },
    {
      "cell_type": "code",
      "execution_count": null,
      "metadata": {
        "id": "6BlPEhDS0Qi8"
      },
      "outputs": [],
      "source": [
        "!git clone https://github.com/Shai670/Residential_consumption_modeling\n",
        "clear_output()"
      ]
    },
    {
      "cell_type": "code",
      "execution_count": null,
      "metadata": {
        "id": "bpSJINl30N0T"
      },
      "outputs": [],
      "source": [
        "pv = pd.read_csv('/content/Residential_consumption_modeling/DATA/Kemerovo_2022_solcast_3.csv', index_col='time')\n",
        "pv.index = pd.date_range(start='2022-01-01 07:00:00', freq='5MIN', periods=len(pv))\n",
        "pv"
      ]
    },
    {
      "cell_type": "code",
      "execution_count": null,
      "metadata": {
        "id": "d7TiQRMNeyEy"
      },
      "outputs": [],
      "source": [
        "load = pd.read_csv(\"/content/Residential_consumption_modeling/DATA/load.csv\", index_col=0)\n",
        "load.index = pd.to_datetime(load.index)\n",
        "load"
      ]
    },
    {
      "cell_type": "code",
      "execution_count": null,
      "metadata": {
        "id": "ybPDuLsGF-Vv"
      },
      "outputs": [],
      "source": [
        "class battery:\n",
        "\n",
        "\n",
        "  def __init__(self, Pnom, capacity):\n",
        "    self.Pnom = Pnom # номинальная мощность батареи\n",
        "    self.capacity = capacity # ёмкость Вт*ч\n",
        "\n",
        "    self.SOC_min = .20\n",
        "    self.SOC_max = .85\n",
        "    self.SOC = self.SOC_min\n",
        "\n",
        "    #self.capacity_fact = self.SOC/100 * self.capacity\n",
        "\n",
        "  def working (self, Pgen, Pload):\n",
        "     Pbat = 0\n",
        "\n",
        "     if Pgen > Pload:\n",
        "       if self.SOC <= self.SOC_max:\n",
        "         if (Pgen - Pload) >= self.Pnom:\n",
        "           Pbat = self.Pnom\n",
        "         elif (Pgen - Pload) < self.Pnom:\n",
        "           Pbat = Pgen - Pload\n",
        "\n",
        "     else:\n",
        "       if self.SOC >= self.SOC_min:\n",
        "         if Pload - Pgen >= self.Pnom:\n",
        "           Pbat = -self.Pnom\n",
        "         elif Pload - Pgen < self.Pnom:\n",
        "           Pbat = -(Pload-Pgen)\n",
        "\n",
        "     self.SOC += 5/60 * Pbat / self.capacity\n",
        "\n",
        "     # self.capacity_fact += 1/60 * Pbat\n",
        "     # self.SOC = self.capacity_fact / self.capacity * 100\n",
        "\n",
        "     return Pbat\n"
      ]
    },
    {
      "cell_type": "code",
      "execution_count": null,
      "metadata": {
        "id": "qLGnTy6RTtgF"
      },
      "outputs": [],
      "source": [
        "dataset = pd.merge(load, pv, left_index=True, right_index=True, how='outer').dropna()\n",
        "dataset.loc[dataset['Solar'] < 0, 'Solar'] = 0\n",
        "dataset['Solar'] *= 1e-3\n",
        "dataset"
      ]
    },
    {
      "cell_type": "code",
      "execution_count": null,
      "metadata": {
        "id": "_qsGBQIPX5tA"
      },
      "outputs": [],
      "source": [
        "bat = battery(Pnom=1, capacity=5)\n",
        "\n",
        "start = '2022-07-01'\n",
        "end = '2022-07-05'\n",
        "\n",
        "load_data = dataset['load'].loc[start : end]\n",
        "gen_data  = dataset['Solar'].loc[start : end]\n",
        "\n",
        "Pbat = []; soc = []; Pgrid = []\n",
        "for load, gen in zip(load_data, gen_data):\n",
        "  bat_power = bat.working(Pgen=gen, Pload=load)\n",
        "  grid_power = load + bat_power - gen\n",
        "\n",
        "  if grid_power < 0: grid_power = 0\n",
        "\n",
        "  Pgrid.append(grid_power)\n",
        "  Pbat.append(bat_power)\n",
        "  soc.append(bat.SOC)\n",
        "\n",
        "Pbat = pd.DataFrame({'bat' : Pbat}, index=load_data.index)\n",
        "Pgrid = pd.DataFrame({'grid' : Pgrid}, index=load_data.index)\n",
        "soc = pd.DataFrame({'soc' : soc}, index=load_data.index)\n",
        "\n",
        "plt.figure(figsize=(12,6))\n",
        "plt.plot(load_data, label='Нагрузка')\n",
        "plt.plot(gen_data, label='Генерация')\n",
        "plt.plot(Pbat, label='Батарея')\n",
        "\n",
        "plt.legend()\n",
        "plt.show()\n",
        "\n",
        "plt.figure(figsize=(12,6))\n",
        "plt.plot(soc, label='Нагрузка')\n",
        "plt.show()"
      ]
    },
    {
      "cell_type": "code",
      "execution_count": null,
      "metadata": {
        "id": "1qHryL60eyE1"
      },
      "outputs": [],
      "source": [
        "def solar_battery_calc(Pnom, capacity):\n",
        "    bat = battery(Pnom=Pnom, capacity=capacity)\n",
        "\n",
        "    load_data = dataset['load'].copy()\n",
        "    gen_data  = dataset['Solar'].copy()\n",
        "\n",
        "    Pbat = []; soc = []; Pgrid = []\n",
        "    for load, gen in zip(load_data, gen_data):\n",
        "        bat_power = bat.working(Pgen=gen, Pload=load)\n",
        "        grid_power = load + bat_power - gen\n",
        "\n",
        "        if grid_power < 0: grid_power = 0\n",
        "\n",
        "        Pgrid.append(grid_power)\n",
        "        Pbat.append(bat_power)\n",
        "        soc.append(bat.SOC)\n",
        "\n",
        "    output = pd.DataFrame(data={\"Pbat\" : Pbat, \"SOC\" : soc, \"Pgrid\" : Pgrid}, index=gen_data.index)\n",
        "\n",
        "    return output"
      ]
    },
    {
      "cell_type": "code",
      "execution_count": null,
      "metadata": {
        "id": "JdkO_bRYeyE1"
      },
      "outputs": [],
      "source": [
        "dataset['load'].mean() * 365 * 24"
      ]
    },
    {
      "cell_type": "code",
      "execution_count": null,
      "metadata": {
        "id": "lUWeRtGreyE2"
      },
      "outputs": [],
      "source": [
        "output = solar_battery_calc(Pnom=0, capacity=5)\n",
        "output.mean() * 365 * 24"
      ]
    },
    {
      "cell_type": "code",
      "execution_count": null,
      "metadata": {
        "id": "Co2cPNTJSSaD"
      },
      "outputs": [],
      "source": []
    },
    {
      "cell_type": "code",
      "execution_count": null,
      "metadata": {
        "id": "gPU916d-SSjp"
      },
      "outputs": [],
      "source": []
    },
    {
      "cell_type": "code",
      "execution_count": null,
      "metadata": {
        "id": "7Ud9GJUUeyE2"
      },
      "outputs": [],
      "source": [
        "output = solar_battery_calc(Pnom=3, capacity=10)\n",
        "output.sum()"
      ]
    },
    {
      "cell_type": "code",
      "execution_count": null,
      "metadata": {
        "id": "2AA2ayip37AN"
      },
      "outputs": [],
      "source": [
        "output = solar_battery_calc(Pnom=5, capacity=10)\n",
        "output.sum()"
      ]
    },
    {
      "cell_type": "code",
      "execution_count": null,
      "metadata": {
        "id": "4SGtZG8b39RP"
      },
      "outputs": [],
      "source": [
        "output = solar_battery_calc(Pnom=7.2, capacity=20)\n",
        "output.sum()"
      ]
    },
    {
      "cell_type": "code",
      "execution_count": null,
      "metadata": {
        "id": "87ZzGSbxeyE2"
      },
      "outputs": [],
      "source": [
        "result = pd.DataFrame()\n",
        "\n",
        "i = 0\n",
        "for p in np.arange(0.1, 5, .1):\n",
        "    for c in np.arange(5, 20, .1):\n",
        "        output = solar_battery_calc(Pnom=p, capacity=c)\n",
        "\n",
        "        result.loc[i, \"Мощность, кВт\"] = p.round(0)\n",
        "        result.loc[i, \"Ёмкость, кВт*ч\"] = c.round(0)\n",
        "        result.loc[i, \"W, руб.\"] = output[\"Pgrid\"].sum().round(1)*3.01*8760\n",
        "\n",
        "        i += 1\n",
        "plt.plot(p, label='Мощность, кВт')\n",
        "plt.plot(c, label='Ёмкость, кВт*ч')\n",
        "plt.plot(Pgrid, label='W, руб.')\n",
        "\n",
        "result\n",
        "\n"
      ]
    },
    {
      "cell_type": "code",
      "execution_count": null,
      "metadata": {
        "id": "wCMK0E2qNzAo"
      },
      "outputs": [],
      "source": [
        "\n",
        "result_pivot = pd.pivot_table(\n",
        "    result, index=\"Мощность, кВт\", columns=\"Ёмкость, кВт*ч\", values=\"W, руб.\"\n",
        ")\n",
        "result_pivot"
      ]
    },
    {
      "cell_type": "code",
      "execution_count": null,
      "metadata": {
        "id": "hlRbkdZ0Oe7c"
      },
      "outputs": [],
      "source": [
        "import seaborn as sns\n",
        "\n",
        "sns.heatmap(result_pivot)"
      ]
    }
  ],
  "metadata": {
    "colab": {
      "provenance": [],
      "include_colab_link": true
    },
    "kernelspec": {
      "display_name": "Python 3",
      "name": "python3"
    },
    "language_info": {
      "codemirror_mode": {
        "name": "ipython",
        "version": 3
      },
      "file_extension": ".py",
      "mimetype": "text/x-python",
      "name": "python",
      "nbconvert_exporter": "python",
      "pygments_lexer": "ipython3",
      "version": "3.8.5"
    }
  },
  "nbformat": 4,
  "nbformat_minor": 0
}